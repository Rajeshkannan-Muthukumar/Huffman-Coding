{
 "cells": [
  {
   "cell_type": "code",
   "execution_count": 40,
   "id": "08a9146c",
   "metadata": {},
   "outputs": [],
   "source": [
    "string = 'Rajeshkannan_212221230081'\n",
    "class Nodetree(object):\n",
    "    def __init__(self,left=None,right=None):\n",
    "        self.left= left\n",
    "        self.right =right\n",
    "    def children(self):\n",
    "        return(self.left, self.right)   "
   ]
  },
  {
   "cell_type": "code",
   "execution_count": 41,
   "id": "29dfdf5f",
   "metadata": {},
   "outputs": [
    {
     "name": "stdout",
     "output_type": "stream",
     "text": [
      "[('2', 5), ('a', 3), ('n', 3), ('1', 3), ('0', 2), ('R', 1), ('j', 1), ('e', 1), ('s', 1), ('h', 1), ('k', 1), ('_', 1), ('3', 1), ('8', 1)]\n"
     ]
    }
   ],
   "source": [
    "freq ={}\n",
    "for i in string:\n",
    "    if i in freq:\n",
    "        freq[i]+=1\n",
    "    else:\n",
    "        freq[i]=1\n",
    "freq = sorted(freq.items(),key=lambda x:x[1] ,reverse = True)\n",
    "print(freq)"
   ]
  },
  {
   "cell_type": "code",
   "execution_count": 42,
   "id": "706dcad6",
   "metadata": {},
   "outputs": [],
   "source": [
    "nodes = freq\n",
    "while len(nodes) >1:\n",
    "    (key1 , value1 ) = nodes[-1]\n",
    "    (key2 , value2 ) = nodes[-2]\n",
    "    nodes = nodes[:-2]\n",
    "    Tree = Nodetree(key1,key2)\n",
    "    nodes.append((Tree , value1+value2))\n",
    "    nodes = sorted(nodes, key =lambda x:x[1],reverse =True)"
   ]
  },
  {
   "cell_type": "code",
   "execution_count": 43,
   "id": "410739fb",
   "metadata": {},
   "outputs": [],
   "source": [
    "def huffman_coding(Tree,left =True,binString=''):\n",
    "    if type(Tree) is str:\n",
    "        return {Tree : binString}\n",
    "    (l, r) = Tree.children()\n",
    "    d = dict()\n",
    "    d.update(huffman_coding(l,True,binString+ '0'))\n",
    "    d.update(huffman_coding(r,False,binString+ '1'))\n",
    "    return d\n"
   ]
  },
  {
   "cell_type": "code",
   "execution_count": 45,
   "id": "0db61000",
   "metadata": {},
   "outputs": [
    {
     "name": "stdout",
     "output_type": "stream",
     "text": [
      "character | Huffman code\n",
      "-------------------------\n",
      " '2'  |           00 \n",
      " 'a'  |          011 \n",
      " 'n'  |          010 \n",
      " '1'  |          101 \n",
      " '0'  |         1101 \n",
      " 'R'  |         1000 \n",
      " 'j'  |        10011 \n",
      " 'e'  |        10010 \n",
      " 's'  |        11101 \n",
      " 'h'  |        11100 \n",
      " 'k'  |        11111 \n",
      " '_'  |        11110 \n",
      " '3'  |        11001 \n",
      " '8'  |        11000 \n"
     ]
    }
   ],
   "source": [
    "huffman = huffman_coding(nodes[0][0])\n",
    "print('character | Huffman code')\n",
    "print('-------------------------')\n",
    "for (char , frequency) in freq:\n",
    "    print(' %-4r | %12s ' %(char, huffman[char]))"
   ]
  },
  {
   "cell_type": "code",
   "execution_count": null,
   "id": "f1e00961",
   "metadata": {},
   "outputs": [],
   "source": []
  },
  {
   "cell_type": "code",
   "execution_count": null,
   "id": "b17c68cc",
   "metadata": {},
   "outputs": [],
   "source": []
  }
 ],
 "metadata": {
  "kernelspec": {
   "display_name": "Python 3",
   "language": "python",
   "name": "python3"
  },
  "language_info": {
   "codemirror_mode": {
    "name": "ipython",
    "version": 3
   },
   "file_extension": ".py",
   "mimetype": "text/x-python",
   "name": "python",
   "nbconvert_exporter": "python",
   "pygments_lexer": "ipython3",
   "version": "3.8.8"
  }
 },
 "nbformat": 4,
 "nbformat_minor": 5
}
